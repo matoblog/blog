{
 "cells": [
  {
   "cell_type": "raw",
   "id": "dafeb3d7",
   "metadata": {},
   "source": [
    "---\n",
    "title: Prespuesto con Diagramas de Sankey\n",
    "date: 2024-03-29\n",
    "description: Un poco de presupuesto con dibujitos.\n",
    "categories: [presupuesto, codigo, python, gráficos, plotly]\n",
    "execute: \n",
    "  enabled: true\n",
    "---"
   ]
  },
  {
   "cell_type": "markdown",
   "id": "a5403ad6",
   "metadata": {},
   "source": [
    "## ¿Cómo se llaman esos gráficos?\n",
    "\n",
    "Hace un tiempo necesitaba hacer unos gráficos con presupuesto.\n",
    "\n",
    "No tenía mucha ídea que quería graficar, pero si sabía que tenia que usar datos de presupuesto de la Administración Pública Nacional.\n",
    "\n",
    "No tenía mucha idea que quería demostrar, pero si sabía que tenía que mostrar ciertos flujos de créditos.\n",
    "\n",
    "Sin mucha más precisión que esa, me puse a pensar, seguramente mal, y de atrás para adelante, en algún tipo de herramienta que me permita ayudar a mostrar lo que todavía no sabía que era.\n",
    "\n",
    "Me acordaba que en uno de mis subreddits preferidos, [Data is Beautiful](https://www.reddit.com/r/dataisbeautiful/), siempre mostraban un tipo de gráfico muy particular. Fui al subreddit, scrollee a lo loco, y obviamente, [Murphy](https://es.wikipedia.org/wiki/Ley_de_Murphy) no falla, no encontré nada. Pero por suerte, muchos kilómetros de página para abajo encontré uno. Era sólo el gráfico, con una muy breve descripción de lo que mostraba. Pero no decía que tipo de gráfico usaba.\n",
    "\n",
    "Pregunté en ese post, sin respuesta. Pero por suerte siempre está la búsqueda inversa de google, donde le subí la imagen del gráfico y me tiró muchisimas similares, y en alguna decís \"Sankey Diagram\". **EN TU CARA (introducir nombre que corresponda)**\n",
    "\n",
    "No desesperen, hoy se le tiran la imagen a cualquier motor de AI y te devuelve hasta el código...\n",
    "\n",
    "Ya con el nombre en la cabeza, una búsqueda en google para ver que librerias de python eran capaces de reproducirlo.\n",
    "Encontré algunas:\n",
    "\n",
    "- [Matplolib](https://matplotlib.org/stable/api/sankey_api.html)\n",
    "- [Plotly](https://plotly.com/python/sankey-diagram/)\n",
    "- [Holoview](https://medium.com/@cbkwgl/sankey-diagrams-in-python-fc9673465ccb)\n",
    "- [Floweaver](https://github.com/ricklupton/floweaver)\n",
    "\n",
    "(debe existir alguna más, que se me pasó en la búsqueda)\n",
    "\n",
    "Me quedé con Plotly. Siempre prefiero Matplolib porque es mucho mas personalizable. El gráfico no tenía destino de dashboard, donde si es necesario que permitan cierta interacción, pero el resultado era demasiado simple, y no mostraba lo que necesitaba.\n",
    "\n",
    "Holoviews no me convenció, Floweaver lo vi tarde...y me incliné por Plotly. Siguiendo este [artículo](https://medium.com/@enigma.pythonml/how-to-create-sankey-diagrams-from-data-frames-in-python-plotly-and-kaggles-titanic-data-1f7d56b28096) pude ir armando la configuración.\n",
    "\n",
    "No me voy a extender en el detalle del código, pero lo mas importante es saber que tiene estos diagramas poseen nodos, donde ingresa la información, y desde donde también sale. Para armar el `dataframe` para poder realizar el gráfico, no importa si recibe o envía información, es un nodo. Por este motivo, el `dataframe` tiene que tener una columna el nodo `source`, otra el nodo `target`y otra el valor que une esos puntos (el 'flujo').\n",
    "\n",
    "Como hay nodos que cumplen las dos funciones, es posible que el mismo nodo aparezca en las columnas `source` y `target`.\n",
    "\n",
    "A continuación dejo el código con algunos comentarios. La base es la resultante de un proceso sobre las que la [Secretaría de Hacienda](https://www.argentina.gob.ar/economia/sechacienda) disponibiliza en [Presupuesto Abierto](https://www.presupuestoabierto.gob.ar/sici/datos-abiertos#). Está actualizado a la ejecución del 31/12/2023.\n",
    "\n",
    "La base utlizada está disponible en [Github](https://github.com/matoblog/blog/blob/main/posts/diagrama-de-sankey-y-presupuesto/datos_sankey.parquet)"
   ]
  },
  {
   "cell_type": "markdown",
   "id": "9fbec581",
   "metadata": {},
   "source": [
    "## Código "
   ]
  },
  {
   "cell_type": "code",
   "execution_count": 1,
   "id": "c90ab795",
   "metadata": {},
   "outputs": [],
   "source": [
    "import pandas as pd\n",
    "import plotly.graph_objects as go"
   ]
  },
  {
   "cell_type": "code",
   "execution_count": 2,
   "id": "c18ffa85",
   "metadata": {},
   "outputs": [],
   "source": [
    "df = pd.read_parquet('datos_sankey.parquet')"
   ]
  },
  {
   "cell_type": "code",
   "execution_count": 3,
   "id": "7d3407ef",
   "metadata": {},
   "outputs": [],
   "source": [
    "# Filtramos la partida (la finalidad-función ya está filtrada en la base que cargamos)\n",
    "df = df.loc[(df['inciso_id']==5) & (df['principal_id']==8) & (df['parcial_id']==1)]"
   ]
  },
  {
   "cell_type": "code",
   "execution_count": 4,
   "id": "b463824a",
   "metadata": {},
   "outputs": [
    {
     "data": {
      "text/html": [
       "        <script type=\"text/javascript\">\n",
       "        window.PlotlyConfig = {MathJaxConfig: 'local'};\n",
       "        if (window.MathJax && window.MathJax.Hub && window.MathJax.Hub.Config) {window.MathJax.Hub.Config({SVG: {font: \"STIX-Web\"}});}\n",
       "        if (typeof require !== 'undefined') {\n",
       "        require.undef(\"plotly\");\n",
       "        requirejs.config({\n",
       "            paths: {\n",
       "                'plotly': ['https://cdn.plot.ly/plotly-2.12.1.min']\n",
       "            }\n",
       "        });\n",
       "        require(['plotly'], function(Plotly) {\n",
       "            window._Plotly = Plotly;\n",
       "        });\n",
       "        }\n",
       "        </script>\n",
       "        "
      ]
     },
     "metadata": {},
     "output_type": "display_data"
    },
    {
     "data": {
      "text/html": [
       "<div>                            <div id=\"c97716fb-e6d8-46c3-bac1-738fc012ece6\" class=\"plotly-graph-div\" style=\"height:525px; width:100%;\"></div>            <script type=\"text/javascript\">                require([\"plotly\"], function(Plotly) {                    window.PLOTLYENV=window.PLOTLYENV || {};                                    if (document.getElementById(\"c97716fb-e6d8-46c3-bac1-738fc012ece6\")) {                    Plotly.newPlot(                        \"c97716fb-e6d8-46c3-bac1-738fc012ece6\",                        [{\"link\":{\"color\":[\"#d9ffe5\",\"#92fff8\",\"#a6e6b4\",\"#56d1c7\",\"#73cc83\",\"#8dd99c\",\"#37b9ae\",\"#19a295\"],\"source\":[0,0,1,2,3,3,4,4],\"target\":[1,2,3,4,5,6,7,8],\"value\":[28925.705601999998,9014.545851,28925.705601999998,9014.545851,6137.960255999999,22787.745346,8560.909266,453.63658499999997]},\"node\":{\"color\":[\"#6db9aa\",\"#d9ffe5\",\"#92fff8\",\"#a6e6b4\",\"#56d1c7\",\"#73cc83\",\"#8dd99c\",\"#37b9ae\",\"#19a295\"],\"label\":[\"SERVICIOS SOCIALES - Vivienda y Urbanismo\",\"Ministerio de Desarrollo Territorial y H\\u00e1bitat\",\"Ministerio de Obras P\\u00fablicas\",\"Ministerio de Desarrollo Territorial y H\\u00e1bitat(SAF)\",\"Ministerio de Obras P\\u00fablicas(SAF)\",\"Planificacion y Desarrollo Territorial\",\"Produccion Integral y Acceso al Habitat\",\"Apoyo para el Desarrollo de Obra Publica\",\"Desarrollo de la Infraestructura Ambiental\"],\"line\":{\"color\":\"black\",\"width\":1},\"pad\":100,\"thickness\":10},\"type\":\"sankey\"}],                        {\"template\":{\"data\":{\"histogram2dcontour\":[{\"type\":\"histogram2dcontour\",\"colorbar\":{\"outlinewidth\":0,\"ticks\":\"\"},\"colorscale\":[[0.0,\"#0d0887\"],[0.1111111111111111,\"#46039f\"],[0.2222222222222222,\"#7201a8\"],[0.3333333333333333,\"#9c179e\"],[0.4444444444444444,\"#bd3786\"],[0.5555555555555556,\"#d8576b\"],[0.6666666666666666,\"#ed7953\"],[0.7777777777777778,\"#fb9f3a\"],[0.8888888888888888,\"#fdca26\"],[1.0,\"#f0f921\"]]}],\"choropleth\":[{\"type\":\"choropleth\",\"colorbar\":{\"outlinewidth\":0,\"ticks\":\"\"}}],\"histogram2d\":[{\"type\":\"histogram2d\",\"colorbar\":{\"outlinewidth\":0,\"ticks\":\"\"},\"colorscale\":[[0.0,\"#0d0887\"],[0.1111111111111111,\"#46039f\"],[0.2222222222222222,\"#7201a8\"],[0.3333333333333333,\"#9c179e\"],[0.4444444444444444,\"#bd3786\"],[0.5555555555555556,\"#d8576b\"],[0.6666666666666666,\"#ed7953\"],[0.7777777777777778,\"#fb9f3a\"],[0.8888888888888888,\"#fdca26\"],[1.0,\"#f0f921\"]]}],\"heatmap\":[{\"type\":\"heatmap\",\"colorbar\":{\"outlinewidth\":0,\"ticks\":\"\"},\"colorscale\":[[0.0,\"#0d0887\"],[0.1111111111111111,\"#46039f\"],[0.2222222222222222,\"#7201a8\"],[0.3333333333333333,\"#9c179e\"],[0.4444444444444444,\"#bd3786\"],[0.5555555555555556,\"#d8576b\"],[0.6666666666666666,\"#ed7953\"],[0.7777777777777778,\"#fb9f3a\"],[0.8888888888888888,\"#fdca26\"],[1.0,\"#f0f921\"]]}],\"heatmapgl\":[{\"type\":\"heatmapgl\",\"colorbar\":{\"outlinewidth\":0,\"ticks\":\"\"},\"colorscale\":[[0.0,\"#0d0887\"],[0.1111111111111111,\"#46039f\"],[0.2222222222222222,\"#7201a8\"],[0.3333333333333333,\"#9c179e\"],[0.4444444444444444,\"#bd3786\"],[0.5555555555555556,\"#d8576b\"],[0.6666666666666666,\"#ed7953\"],[0.7777777777777778,\"#fb9f3a\"],[0.8888888888888888,\"#fdca26\"],[1.0,\"#f0f921\"]]}],\"contourcarpet\":[{\"type\":\"contourcarpet\",\"colorbar\":{\"outlinewidth\":0,\"ticks\":\"\"}}],\"contour\":[{\"type\":\"contour\",\"colorbar\":{\"outlinewidth\":0,\"ticks\":\"\"},\"colorscale\":[[0.0,\"#0d0887\"],[0.1111111111111111,\"#46039f\"],[0.2222222222222222,\"#7201a8\"],[0.3333333333333333,\"#9c179e\"],[0.4444444444444444,\"#bd3786\"],[0.5555555555555556,\"#d8576b\"],[0.6666666666666666,\"#ed7953\"],[0.7777777777777778,\"#fb9f3a\"],[0.8888888888888888,\"#fdca26\"],[1.0,\"#f0f921\"]]}],\"surface\":[{\"type\":\"surface\",\"colorbar\":{\"outlinewidth\":0,\"ticks\":\"\"},\"colorscale\":[[0.0,\"#0d0887\"],[0.1111111111111111,\"#46039f\"],[0.2222222222222222,\"#7201a8\"],[0.3333333333333333,\"#9c179e\"],[0.4444444444444444,\"#bd3786\"],[0.5555555555555556,\"#d8576b\"],[0.6666666666666666,\"#ed7953\"],[0.7777777777777778,\"#fb9f3a\"],[0.8888888888888888,\"#fdca26\"],[1.0,\"#f0f921\"]]}],\"mesh3d\":[{\"type\":\"mesh3d\",\"colorbar\":{\"outlinewidth\":0,\"ticks\":\"\"}}],\"scatter\":[{\"fillpattern\":{\"fillmode\":\"overlay\",\"size\":10,\"solidity\":0.2},\"type\":\"scatter\"}],\"parcoords\":[{\"type\":\"parcoords\",\"line\":{\"colorbar\":{\"outlinewidth\":0,\"ticks\":\"\"}}}],\"scatterpolargl\":[{\"type\":\"scatterpolargl\",\"marker\":{\"colorbar\":{\"outlinewidth\":0,\"ticks\":\"\"}}}],\"bar\":[{\"error_x\":{\"color\":\"#2a3f5f\"},\"error_y\":{\"color\":\"#2a3f5f\"},\"marker\":{\"line\":{\"color\":\"#E5ECF6\",\"width\":0.5},\"pattern\":{\"fillmode\":\"overlay\",\"size\":10,\"solidity\":0.2}},\"type\":\"bar\"}],\"scattergeo\":[{\"type\":\"scattergeo\",\"marker\":{\"colorbar\":{\"outlinewidth\":0,\"ticks\":\"\"}}}],\"scatterpolar\":[{\"type\":\"scatterpolar\",\"marker\":{\"colorbar\":{\"outlinewidth\":0,\"ticks\":\"\"}}}],\"histogram\":[{\"marker\":{\"pattern\":{\"fillmode\":\"overlay\",\"size\":10,\"solidity\":0.2}},\"type\":\"histogram\"}],\"scattergl\":[{\"type\":\"scattergl\",\"marker\":{\"colorbar\":{\"outlinewidth\":0,\"ticks\":\"\"}}}],\"scatter3d\":[{\"type\":\"scatter3d\",\"line\":{\"colorbar\":{\"outlinewidth\":0,\"ticks\":\"\"}},\"marker\":{\"colorbar\":{\"outlinewidth\":0,\"ticks\":\"\"}}}],\"scattermapbox\":[{\"type\":\"scattermapbox\",\"marker\":{\"colorbar\":{\"outlinewidth\":0,\"ticks\":\"\"}}}],\"scatterternary\":[{\"type\":\"scatterternary\",\"marker\":{\"colorbar\":{\"outlinewidth\":0,\"ticks\":\"\"}}}],\"scattercarpet\":[{\"type\":\"scattercarpet\",\"marker\":{\"colorbar\":{\"outlinewidth\":0,\"ticks\":\"\"}}}],\"carpet\":[{\"aaxis\":{\"endlinecolor\":\"#2a3f5f\",\"gridcolor\":\"white\",\"linecolor\":\"white\",\"minorgridcolor\":\"white\",\"startlinecolor\":\"#2a3f5f\"},\"baxis\":{\"endlinecolor\":\"#2a3f5f\",\"gridcolor\":\"white\",\"linecolor\":\"white\",\"minorgridcolor\":\"white\",\"startlinecolor\":\"#2a3f5f\"},\"type\":\"carpet\"}],\"table\":[{\"cells\":{\"fill\":{\"color\":\"#EBF0F8\"},\"line\":{\"color\":\"white\"}},\"header\":{\"fill\":{\"color\":\"#C8D4E3\"},\"line\":{\"color\":\"white\"}},\"type\":\"table\"}],\"barpolar\":[{\"marker\":{\"line\":{\"color\":\"#E5ECF6\",\"width\":0.5},\"pattern\":{\"fillmode\":\"overlay\",\"size\":10,\"solidity\":0.2}},\"type\":\"barpolar\"}],\"pie\":[{\"automargin\":true,\"type\":\"pie\"}]},\"layout\":{\"autotypenumbers\":\"strict\",\"colorway\":[\"#636efa\",\"#EF553B\",\"#00cc96\",\"#ab63fa\",\"#FFA15A\",\"#19d3f3\",\"#FF6692\",\"#B6E880\",\"#FF97FF\",\"#FECB52\"],\"font\":{\"color\":\"#2a3f5f\"},\"hovermode\":\"closest\",\"hoverlabel\":{\"align\":\"left\"},\"paper_bgcolor\":\"white\",\"plot_bgcolor\":\"#E5ECF6\",\"polar\":{\"bgcolor\":\"#E5ECF6\",\"angularaxis\":{\"gridcolor\":\"white\",\"linecolor\":\"white\",\"ticks\":\"\"},\"radialaxis\":{\"gridcolor\":\"white\",\"linecolor\":\"white\",\"ticks\":\"\"}},\"ternary\":{\"bgcolor\":\"#E5ECF6\",\"aaxis\":{\"gridcolor\":\"white\",\"linecolor\":\"white\",\"ticks\":\"\"},\"baxis\":{\"gridcolor\":\"white\",\"linecolor\":\"white\",\"ticks\":\"\"},\"caxis\":{\"gridcolor\":\"white\",\"linecolor\":\"white\",\"ticks\":\"\"}},\"coloraxis\":{\"colorbar\":{\"outlinewidth\":0,\"ticks\":\"\"}},\"colorscale\":{\"sequential\":[[0.0,\"#0d0887\"],[0.1111111111111111,\"#46039f\"],[0.2222222222222222,\"#7201a8\"],[0.3333333333333333,\"#9c179e\"],[0.4444444444444444,\"#bd3786\"],[0.5555555555555556,\"#d8576b\"],[0.6666666666666666,\"#ed7953\"],[0.7777777777777778,\"#fb9f3a\"],[0.8888888888888888,\"#fdca26\"],[1.0,\"#f0f921\"]],\"sequentialminus\":[[0.0,\"#0d0887\"],[0.1111111111111111,\"#46039f\"],[0.2222222222222222,\"#7201a8\"],[0.3333333333333333,\"#9c179e\"],[0.4444444444444444,\"#bd3786\"],[0.5555555555555556,\"#d8576b\"],[0.6666666666666666,\"#ed7953\"],[0.7777777777777778,\"#fb9f3a\"],[0.8888888888888888,\"#fdca26\"],[1.0,\"#f0f921\"]],\"diverging\":[[0,\"#8e0152\"],[0.1,\"#c51b7d\"],[0.2,\"#de77ae\"],[0.3,\"#f1b6da\"],[0.4,\"#fde0ef\"],[0.5,\"#f7f7f7\"],[0.6,\"#e6f5d0\"],[0.7,\"#b8e186\"],[0.8,\"#7fbc41\"],[0.9,\"#4d9221\"],[1,\"#276419\"]]},\"xaxis\":{\"gridcolor\":\"white\",\"linecolor\":\"white\",\"ticks\":\"\",\"title\":{\"standoff\":15},\"zerolinecolor\":\"white\",\"automargin\":true,\"zerolinewidth\":2},\"yaxis\":{\"gridcolor\":\"white\",\"linecolor\":\"white\",\"ticks\":\"\",\"title\":{\"standoff\":15},\"zerolinecolor\":\"white\",\"automargin\":true,\"zerolinewidth\":2},\"scene\":{\"xaxis\":{\"backgroundcolor\":\"#E5ECF6\",\"gridcolor\":\"white\",\"linecolor\":\"white\",\"showbackground\":true,\"ticks\":\"\",\"zerolinecolor\":\"white\",\"gridwidth\":2},\"yaxis\":{\"backgroundcolor\":\"#E5ECF6\",\"gridcolor\":\"white\",\"linecolor\":\"white\",\"showbackground\":true,\"ticks\":\"\",\"zerolinecolor\":\"white\",\"gridwidth\":2},\"zaxis\":{\"backgroundcolor\":\"#E5ECF6\",\"gridcolor\":\"white\",\"linecolor\":\"white\",\"showbackground\":true,\"ticks\":\"\",\"zerolinecolor\":\"white\",\"gridwidth\":2}},\"shapedefaults\":{\"line\":{\"color\":\"#2a3f5f\"}},\"annotationdefaults\":{\"arrowcolor\":\"#2a3f5f\",\"arrowhead\":0,\"arrowwidth\":1},\"geo\":{\"bgcolor\":\"white\",\"landcolor\":\"#E5ECF6\",\"subunitcolor\":\"white\",\"showland\":true,\"showlakes\":true,\"lakecolor\":\"white\"},\"title\":{\"x\":0.05},\"mapbox\":{\"style\":\"light\"}}},\"title\":{\"text\":\"<span style=\\\"font-size: 30px;\\\">Ejecuci\\u00f3n de Partidas</span><br><span style=\\\"font-size: 12px;\\\">5.8.1 Serv. Sociales - Vivienda y Urbanismo - Diferentes jurisdicciones<br></span>\"}},                        {\"responsive\": true}                    ).then(function(){\n",
       "                            \n",
       "var gd = document.getElementById('c97716fb-e6d8-46c3-bac1-738fc012ece6');\n",
       "var x = new MutationObserver(function (mutations, observer) {{\n",
       "        var display = window.getComputedStyle(gd).display;\n",
       "        if (!display || display === 'none') {{\n",
       "            console.log([gd, 'removed!']);\n",
       "            Plotly.purge(gd);\n",
       "            observer.disconnect();\n",
       "        }}\n",
       "}});\n",
       "\n",
       "// Listen for the removal of the full notebook cells\n",
       "var notebookContainer = gd.closest('#notebook-container');\n",
       "if (notebookContainer) {{\n",
       "    x.observe(notebookContainer, {childList: true});\n",
       "}}\n",
       "\n",
       "// Listen for the clearing of the current output cell\n",
       "var outputEl = gd.closest('.output');\n",
       "if (outputEl) {{\n",
       "    x.observe(outputEl, {childList: true});\n",
       "}}\n",
       "\n",
       "                        })                };                });            </script>        </div>"
      ]
     },
     "metadata": {},
     "output_type": "display_data"
    }
   ],
   "source": [
    "# Sólo vamos a mostrar la 5.8.1, para una finalidad y función determinada.\n",
    "# Filtramos por inciso, principal, parcial\n",
    "\n",
    "df_grafico = df.groupby(['fin-fun','jurisdiccion_desc','servicio_desc','programa_desc']).agg(**{\n",
    "                                'credito_vigente_sum': ('credito_vigente', 'sum')\n",
    "                                }).reset_index()\n",
    "\n",
    "# 1-[fin-fun]=>[jurisdiccion_desc]\n",
    "df1 = df_grafico.groupby(['fin-fun', 'jurisdiccion_desc'])['credito_vigente_sum'].sum().reset_index()\n",
    "df1.columns = ['source', 'target', 'value']\n",
    "\n",
    "# 2-[jurisdiccion_desc]=>[servicio_desc]\n",
    "df2 = df_grafico.groupby(['jurisdiccion_desc', 'servicio_desc'])['credito_vigente_sum'].sum().reset_index()\n",
    "df2.columns = ['source', 'target', 'value']\n",
    "\n",
    "\n",
    "# 3-[servicio_desc]=>[programa_desc]\n",
    "df3 = df_grafico.groupby(['servicio_desc', 'programa_desc'])['credito_vigente_sum'].sum().reset_index()\n",
    "df3.columns = ['source', 'target', 'value']\n",
    "\n",
    "# Juntamos toda la información en un DF: \n",
    "all_links = pd.concat([\n",
    "    df1, \n",
    "    df2,\n",
    "    df3\n",
    "], axis=0)\n",
    "all_links_desc = all_links.copy()\n",
    "\n",
    "# Para usar el parámetro 'label'\n",
    "# https://sparkbyexamples.com/pandas/pandas-find-unique-values-from-columns\n",
    "unique_source_target = list(pd.unique(all_links[['source', 'target']].values.ravel('K')))\n",
    "\n",
    "# Asignamos un número único a cada source y target\n",
    "mapping_dict = {k: v for v, k in enumerate(unique_source_target)}\n",
    "\n",
    "# Mapeamos todos los datos\n",
    "all_links['source'] = all_links['source'].map(mapping_dict)\n",
    "all_links['target'] = all_links['target'].map(mapping_dict)\n",
    "\n",
    "# Convertimos el dataframe a una lista para poder utilizarlo en plotly\n",
    "links_dict = all_links.to_dict(orient='list')\n",
    "\n",
    "# Código del Diagrama de Sankey Diagram \n",
    "fig = go.Figure(data=[go.Sankey(\n",
    "    node = dict(\n",
    "        pad = 100, # Espacio vertical entre los nodos terminales\n",
    "        thickness = 10, # Ancho del rectángulo de los nodos\n",
    "        line = dict(color = \"black\", width = 1), # Línea que rodea el rectángulo de los nodos\n",
    "        label = unique_source_target,\n",
    "        color =['#6db9aa', '#d9ffe5', '#92fff8', '#a6e6b4', '#56d1c7','#73cc83','#8dd99c', '#37b9ae', '#19a295']\n",
    "    ),\n",
    "    link = dict(\n",
    "        source = links_dict[\"source\"],\n",
    "        target = links_dict[\"target\"],\n",
    "        value = links_dict[\"value\"],\n",
    "        color = ['#d9ffe5', '#92fff8', '#a6e6b4', '#56d1c7','#73cc83','#8dd99c', '#37b9ae', '#19a295']\n",
    "    )\n",
    ")])\n",
    "\n",
    "fig.update_layout(\n",
    "    title='<span style=\"font-size: 30px;\">Ejecución de Partidas</span>' + '<br>' +  '<span style=\"font-size: 12px;\">5.8.1 Serv. Sociales - Vivienda y Urbanismo - Diferentes jurisdicciones<br></span>')\n",
    "\n",
    "fig.show()"
   ]
  }
 ],
 "metadata": {
  "kernelspec": {
   "display_name": "Python 3 (ipykernel)",
   "language": "python",
   "name": "python3"
  },
  "language_info": {
   "codemirror_mode": {
    "name": "ipython",
    "version": 3
   },
   "file_extension": ".py",
   "mimetype": "text/x-python",
   "name": "python",
   "nbconvert_exporter": "python",
   "pygments_lexer": "ipython3",
   "version": "3.10.9"
  }
 },
 "nbformat": 4,
 "nbformat_minor": 5
}
