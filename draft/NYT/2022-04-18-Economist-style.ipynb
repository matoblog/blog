{
 "cells": [
  {
   "cell_type": "markdown",
   "metadata": {
    "id": "2zk7fiheyOKK"
   },
   "source": [
    "# \"Reconstructing Economist graph with Altair\"\n",
    "> \"#30DayChartChallenge #altair #day12\"\n",
    "\n",
    "- toc: true\n",
    "- branch: master\n",
    "- badges: true\n",
    "- comments: true\n",
    "- author: Lode Nachtergaele\n",
    "- categories: [cast42, jupyter, altair]\n",
    "- image: images/Economist_stye%3B_30dayschartchallenge_day12.png"
   ]
  },
  {
   "cell_type": "markdown",
   "metadata": {
    "id": "rN8Opb2dvCik"
   },
   "source": [
    "In an Economist article [\"The metamorphosis: How Jeremy Corbyn took control of Labour\"](https://www.economist.com/britain/2016/08/13/the-metamorphosis), the following graph appeared:\n",
    "\n",
    "![](https://www.economist.com/img/b/400/363/90/sites/default/files/20160813_BRC304_0.png \"Credit: https://www.economist.com/britain/2016/08/13/the-metamorphosis\")\n",
    "\n",
    "Later, [Sarah Leo](https://twitter.com/misssarahleo?lang=nl), data visualiser at The Economist, improved the graph to:\n",
    "\n",
    "![](https://miro.medium.com/max/875/1*9QE_yL3boSLqopJkSBfL5A.png \"Credit: https://twitter.com/misssarahleo?lang=nl\")\n",
    "The rationale behind this improvement is discussed in her article: ['Mistakes, we made a few'](\n",
    "https://medium.economist.com/mistakes-weve-drawn-a-few-8cdd8a42d368).\n",
    "\n",
    "In this article, I show how visualisation library Altair can be used to reconstruct the improved graph."
   ]
  },
  {
   "cell_type": "code",
   "execution_count": 1,
   "metadata": {
    "id": "TKcpE4-2u8tS"
   },
   "outputs": [],
   "source": [
    "import numpy as np\n",
    "import pandas as pd\n",
    "import altair as alt"
   ]
  },
  {
   "cell_type": "markdown",
   "metadata": {
    "id": "3DhGQ6BTvefm"
   },
   "source": [
    "Read the data for the graph into a Pandas dataframe:"
   ]
  },
  {
   "cell_type": "code",
   "execution_count": 2,
   "metadata": {
    "id": "BCSYpm8IvG1_"
   },
   "outputs": [],
   "source": [
    "df = pd.read_csv('Economist_corbyn.csv').dropna()"
   ]
  },
  {
   "cell_type": "markdown",
   "metadata": {
    "id": "QQs-mx5dvgNy"
   },
   "source": [
    "This is how the data looks:"
   ]
  },
  {
   "cell_type": "code",
   "execution_count": 3,
   "metadata": {
    "colab": {
     "base_uri": "https://localhost:8080/",
     "height": 238
    },
    "id": "eeIXlpzevkMU",
    "outputId": "2bbd8b3a-8ad4-400b-ea0d-0ae352309ca3"
   },
   "outputs": [
    {
     "data": {
      "text/html": [
       "<div>\n",
       "<style scoped>\n",
       "    .dataframe tbody tr th:only-of-type {\n",
       "        vertical-align: middle;\n",
       "    }\n",
       "\n",
       "    .dataframe tbody tr th {\n",
       "        vertical-align: top;\n",
       "    }\n",
       "\n",
       "    .dataframe thead th {\n",
       "        text-align: right;\n",
       "    }\n",
       "</style>\n",
       "<table border=\"1\" class=\"dataframe\">\n",
       "  <thead>\n",
       "    <tr style=\"text-align: right;\">\n",
       "      <th></th>\n",
       "      <th>Page</th>\n",
       "      <th>Average number of likes per Facebook post 2016</th>\n",
       "    </tr>\n",
       "  </thead>\n",
       "  <tbody>\n",
       "    <tr>\n",
       "      <th>0</th>\n",
       "      <td>Jeremy Corbyn</td>\n",
       "      <td>5210</td>\n",
       "    </tr>\n",
       "    <tr>\n",
       "      <th>1</th>\n",
       "      <td>Labour Party</td>\n",
       "      <td>845</td>\n",
       "    </tr>\n",
       "    <tr>\n",
       "      <th>2</th>\n",
       "      <td>Momentum</td>\n",
       "      <td>229</td>\n",
       "    </tr>\n",
       "    <tr>\n",
       "      <th>3</th>\n",
       "      <td>Owen Smith</td>\n",
       "      <td>127</td>\n",
       "    </tr>\n",
       "    <tr>\n",
       "      <th>4</th>\n",
       "      <td>Andy Burnham</td>\n",
       "      <td>105</td>\n",
       "    </tr>\n",
       "    <tr>\n",
       "      <th>5</th>\n",
       "      <td>Saving Labour</td>\n",
       "      <td>56</td>\n",
       "    </tr>\n",
       "  </tbody>\n",
       "</table>\n",
       "</div>"
      ],
      "text/plain": [
       "            Page  Average number of likes per Facebook post 2016\n",
       "0  Jeremy Corbyn                                            5210\n",
       "1   Labour Party                                             845\n",
       "2       Momentum                                             229\n",
       "3     Owen Smith                                             127\n",
       "4   Andy Burnham                                             105\n",
       "5  Saving Labour                                              56"
      ]
     },
     "execution_count": 3,
     "metadata": {},
     "output_type": "execute_result"
    }
   ],
   "source": [
    "df"
   ]
  },
  {
   "cell_type": "markdown",
   "metadata": {
    "id": "38kO6oplvp7J"
   },
   "source": [
    "A standard bar graph in Altair gives this:"
   ]
  },
  {
   "cell_type": "code",
   "execution_count": 6,
   "metadata": {
    "colab": {
     "base_uri": "https://localhost:8080/",
     "height": 183
    },
    "id": "lo12273Bvot0",
    "outputId": "72b83543-4e10-4481-8e9f-825f7d292618"
   },
   "outputs": [
    {
     "data": {
      "text/html": [
       "\n",
       "<div id=\"altair-viz-21e95f430f8d4ab6b8f0b044127fe570\"></div>\n",
       "<script type=\"text/javascript\">\n",
       "  var VEGA_DEBUG = (typeof VEGA_DEBUG == \"undefined\") ? {} : VEGA_DEBUG;\n",
       "  (function(spec, embedOpt){\n",
       "    let outputDiv = document.currentScript.previousElementSibling;\n",
       "    if (outputDiv.id !== \"altair-viz-21e95f430f8d4ab6b8f0b044127fe570\") {\n",
       "      outputDiv = document.getElementById(\"altair-viz-21e95f430f8d4ab6b8f0b044127fe570\");\n",
       "    }\n",
       "    const paths = {\n",
       "      \"vega\": \"https://cdn.jsdelivr.net/npm//vega@5?noext\",\n",
       "      \"vega-lib\": \"https://cdn.jsdelivr.net/npm//vega-lib?noext\",\n",
       "      \"vega-lite\": \"https://cdn.jsdelivr.net/npm//vega-lite@4.17.0?noext\",\n",
       "      \"vega-embed\": \"https://cdn.jsdelivr.net/npm//vega-embed@6?noext\",\n",
       "    };\n",
       "\n",
       "    function maybeLoadScript(lib, version) {\n",
       "      var key = `${lib.replace(\"-\", \"\")}_version`;\n",
       "      return (VEGA_DEBUG[key] == version) ?\n",
       "        Promise.resolve(paths[lib]) :\n",
       "        new Promise(function(resolve, reject) {\n",
       "          var s = document.createElement('script');\n",
       "          document.getElementsByTagName(\"head\")[0].appendChild(s);\n",
       "          s.async = true;\n",
       "          s.onload = () => {\n",
       "            VEGA_DEBUG[key] = version;\n",
       "            return resolve(paths[lib]);\n",
       "          };\n",
       "          s.onerror = () => reject(`Error loading script: ${paths[lib]}`);\n",
       "          s.src = paths[lib];\n",
       "        });\n",
       "    }\n",
       "\n",
       "    function showError(err) {\n",
       "      outputDiv.innerHTML = `<div class=\"error\" style=\"color:red;\">${err}</div>`;\n",
       "      throw err;\n",
       "    }\n",
       "\n",
       "    function displayChart(vegaEmbed) {\n",
       "      vegaEmbed(outputDiv, spec, embedOpt)\n",
       "        .catch(err => showError(`Javascript Error: ${err.message}<br>This usually means there's a typo in your chart specification. See the javascript console for the full traceback.`));\n",
       "    }\n",
       "\n",
       "    if(typeof define === \"function\" && define.amd) {\n",
       "      requirejs.config({paths});\n",
       "      require([\"vega-embed\"], displayChart, err => showError(`Error loading script: ${err.message}`));\n",
       "    } else {\n",
       "      maybeLoadScript(\"vega\", \"5\")\n",
       "        .then(() => maybeLoadScript(\"vega-lite\", \"4.17.0\"))\n",
       "        .then(() => maybeLoadScript(\"vega-embed\", \"6\"))\n",
       "        .catch(showError)\n",
       "        .then(() => displayChart(vegaEmbed));\n",
       "    }\n",
       "  })({\"config\": {\"view\": {\"continuousWidth\": 400, \"continuousHeight\": 300}}, \"data\": {\"name\": \"data-cb91423204b93a05af4ed2b5b155acb4\"}, \"mark\": \"bar\", \"encoding\": {\"x\": {\"field\": \"Average number of likes per Facebook post 2016\", \"type\": \"quantitative\"}, \"y\": {\"field\": \"Page\", \"type\": \"ordinal\"}}, \"$schema\": \"https://vega.github.io/schema/vega-lite/v4.17.0.json\", \"datasets\": {\"data-cb91423204b93a05af4ed2b5b155acb4\": [{\"Page\": \"Jeremy Corbyn\", \"Average number of likes per Facebook post 2016\": 5210}, {\"Page\": \"Labour Party\", \"Average number of likes per Facebook post 2016\": 845}, {\"Page\": \"Momentum\", \"Average number of likes per Facebook post 2016\": 229}, {\"Page\": \"Owen Smith\", \"Average number of likes per Facebook post 2016\": 127}, {\"Page\": \"Andy Burnham\", \"Average number of likes per Facebook post 2016\": 105}, {\"Page\": \"Saving Labour\", \"Average number of likes per Facebook post 2016\": 56}]}}, {\"mode\": \"vega-lite\"});\n",
       "</script>"
      ],
      "text/plain": [
       "alt.Chart(...)"
      ]
     },
     "execution_count": 6,
     "metadata": {},
     "output_type": "execute_result"
    }
   ],
   "source": [
    "alt.Chart(df).mark_bar().encode(\n",
    "    x='Average number of likes per Facebook post 2016:Q',\n",
    "    y='Page:O'\n",
    ")"
   ]
  },
  {
   "cell_type": "markdown",
   "metadata": {
    "id": "b3Bk5A23vwAs"
   },
   "source": [
    "The message of the graph is that Jerermy Corbyn has by far the most likes per Facebook post in 2016. There are a number of improvements possible:\n",
    "\n",
    "The number on the x-axis are multiple of thousands. In spirit of removing as much inkt as possible, let's rescale the x-asis with factor 1000.\n",
    "The label 'Page' on the y-axis is superfluous. Let's remove it."
   ]
  },
  {
   "cell_type": "code",
   "execution_count": 7,
   "metadata": {
    "id": "BdgwUPRZv3Wt"
   },
   "outputs": [],
   "source": [
    "df['page1k'] = df['Average number of likes per Facebook post 2016']/1000.0"
   ]
  },
  {
   "cell_type": "markdown",
   "metadata": {
    "id": "9KjStY7-v-bW"
   },
   "source": [
    "After scaling the graphs looks like this:"
   ]
  },
  {
   "cell_type": "code",
   "execution_count": 8,
   "metadata": {
    "colab": {
     "base_uri": "https://localhost:8080/",
     "height": 183
    },
    "id": "iKwuouoOv9sd",
    "outputId": "4be22b76-7add-4db6-9258-4cef60296362"
   },
   "outputs": [
    {
     "data": {
      "text/html": [
       "\n",
       "<div id=\"altair-viz-75199e859df9418399bdca501eb8eb31\"></div>\n",
       "<script type=\"text/javascript\">\n",
       "  var VEGA_DEBUG = (typeof VEGA_DEBUG == \"undefined\") ? {} : VEGA_DEBUG;\n",
       "  (function(spec, embedOpt){\n",
       "    let outputDiv = document.currentScript.previousElementSibling;\n",
       "    if (outputDiv.id !== \"altair-viz-75199e859df9418399bdca501eb8eb31\") {\n",
       "      outputDiv = document.getElementById(\"altair-viz-75199e859df9418399bdca501eb8eb31\");\n",
       "    }\n",
       "    const paths = {\n",
       "      \"vega\": \"https://cdn.jsdelivr.net/npm//vega@5?noext\",\n",
       "      \"vega-lib\": \"https://cdn.jsdelivr.net/npm//vega-lib?noext\",\n",
       "      \"vega-lite\": \"https://cdn.jsdelivr.net/npm//vega-lite@4.17.0?noext\",\n",
       "      \"vega-embed\": \"https://cdn.jsdelivr.net/npm//vega-embed@6?noext\",\n",
       "    };\n",
       "\n",
       "    function maybeLoadScript(lib, version) {\n",
       "      var key = `${lib.replace(\"-\", \"\")}_version`;\n",
       "      return (VEGA_DEBUG[key] == version) ?\n",
       "        Promise.resolve(paths[lib]) :\n",
       "        new Promise(function(resolve, reject) {\n",
       "          var s = document.createElement('script');\n",
       "          document.getElementsByTagName(\"head\")[0].appendChild(s);\n",
       "          s.async = true;\n",
       "          s.onload = () => {\n",
       "            VEGA_DEBUG[key] = version;\n",
       "            return resolve(paths[lib]);\n",
       "          };\n",
       "          s.onerror = () => reject(`Error loading script: ${paths[lib]}`);\n",
       "          s.src = paths[lib];\n",
       "        });\n",
       "    }\n",
       "\n",
       "    function showError(err) {\n",
       "      outputDiv.innerHTML = `<div class=\"error\" style=\"color:red;\">${err}</div>`;\n",
       "      throw err;\n",
       "    }\n",
       "\n",
       "    function displayChart(vegaEmbed) {\n",
       "      vegaEmbed(outputDiv, spec, embedOpt)\n",
       "        .catch(err => showError(`Javascript Error: ${err.message}<br>This usually means there's a typo in your chart specification. See the javascript console for the full traceback.`));\n",
       "    }\n",
       "\n",
       "    if(typeof define === \"function\" && define.amd) {\n",
       "      requirejs.config({paths});\n",
       "      require([\"vega-embed\"], displayChart, err => showError(`Error loading script: ${err.message}`));\n",
       "    } else {\n",
       "      maybeLoadScript(\"vega\", \"5\")\n",
       "        .then(() => maybeLoadScript(\"vega-lite\", \"4.17.0\"))\n",
       "        .then(() => maybeLoadScript(\"vega-embed\", \"6\"))\n",
       "        .catch(showError)\n",
       "        .then(() => displayChart(vegaEmbed));\n",
       "    }\n",
       "  })({\"config\": {\"view\": {\"continuousWidth\": 400, \"continuousHeight\": 300}}, \"data\": {\"name\": \"data-9214316b9288e806cb27fd88d0236008\"}, \"mark\": \"bar\", \"encoding\": {\"x\": {\"field\": \"page1k\", \"title\": \"Average number of likes per Facebook post 2016\", \"type\": \"quantitative\"}, \"y\": {\"field\": \"Page\", \"title\": \"\", \"type\": \"ordinal\"}}, \"$schema\": \"https://vega.github.io/schema/vega-lite/v4.17.0.json\", \"datasets\": {\"data-9214316b9288e806cb27fd88d0236008\": [{\"Page\": \"Jeremy Corbyn\", \"Average number of likes per Facebook post 2016\": 5210, \"page1k\": 5.21}, {\"Page\": \"Labour Party\", \"Average number of likes per Facebook post 2016\": 845, \"page1k\": 0.845}, {\"Page\": \"Momentum\", \"Average number of likes per Facebook post 2016\": 229, \"page1k\": 0.229}, {\"Page\": \"Owen Smith\", \"Average number of likes per Facebook post 2016\": 127, \"page1k\": 0.127}, {\"Page\": \"Andy Burnham\", \"Average number of likes per Facebook post 2016\": 105, \"page1k\": 0.105}, {\"Page\": \"Saving Labour\", \"Average number of likes per Facebook post 2016\": 56, \"page1k\": 0.056}]}}, {\"mode\": \"vega-lite\"});\n",
       "</script>"
      ],
      "text/plain": [
       "alt.Chart(...)"
      ]
     },
     "execution_count": 8,
     "metadata": {},
     "output_type": "execute_result"
    }
   ],
   "source": [
    "alt.Chart(df).mark_bar().encode(\n",
    "    x=alt.X('page1k', title='Average number of likes per Facebook post 2016'),\n",
    "    y=alt.Y('Page:O', title='')\n",
    ")"
   ]
  },
  {
   "cell_type": "markdown",
   "metadata": {
    "id": "3ZfXTfoBwHYE"
   },
   "source": [
    "A third improvement is to sort the bars from high to low. This supports the message, Jeremy Corbyn has the most clicks."
   ]
  },
  {
   "cell_type": "code",
   "execution_count": 9,
   "metadata": {
    "colab": {
     "base_uri": "https://localhost:8080/",
     "height": 183
    },
    "id": "U2309n98wK6e",
    "outputId": "e995225b-1d7e-4cf5-8be4-48585b81736d"
   },
   "outputs": [
    {
     "data": {
      "text/html": [
       "\n",
       "<div id=\"altair-viz-0cd41cdd024d4925aaa4e0d8c74fcad9\"></div>\n",
       "<script type=\"text/javascript\">\n",
       "  var VEGA_DEBUG = (typeof VEGA_DEBUG == \"undefined\") ? {} : VEGA_DEBUG;\n",
       "  (function(spec, embedOpt){\n",
       "    let outputDiv = document.currentScript.previousElementSibling;\n",
       "    if (outputDiv.id !== \"altair-viz-0cd41cdd024d4925aaa4e0d8c74fcad9\") {\n",
       "      outputDiv = document.getElementById(\"altair-viz-0cd41cdd024d4925aaa4e0d8c74fcad9\");\n",
       "    }\n",
       "    const paths = {\n",
       "      \"vega\": \"https://cdn.jsdelivr.net/npm//vega@5?noext\",\n",
       "      \"vega-lib\": \"https://cdn.jsdelivr.net/npm//vega-lib?noext\",\n",
       "      \"vega-lite\": \"https://cdn.jsdelivr.net/npm//vega-lite@4.17.0?noext\",\n",
       "      \"vega-embed\": \"https://cdn.jsdelivr.net/npm//vega-embed@6?noext\",\n",
       "    };\n",
       "\n",
       "    function maybeLoadScript(lib, version) {\n",
       "      var key = `${lib.replace(\"-\", \"\")}_version`;\n",
       "      return (VEGA_DEBUG[key] == version) ?\n",
       "        Promise.resolve(paths[lib]) :\n",
       "        new Promise(function(resolve, reject) {\n",
       "          var s = document.createElement('script');\n",
       "          document.getElementsByTagName(\"head\")[0].appendChild(s);\n",
       "          s.async = true;\n",
       "          s.onload = () => {\n",
       "            VEGA_DEBUG[key] = version;\n",
       "            return resolve(paths[lib]);\n",
       "          };\n",
       "          s.onerror = () => reject(`Error loading script: ${paths[lib]}`);\n",
       "          s.src = paths[lib];\n",
       "        });\n",
       "    }\n",
       "\n",
       "    function showError(err) {\n",
       "      outputDiv.innerHTML = `<div class=\"error\" style=\"color:red;\">${err}</div>`;\n",
       "      throw err;\n",
       "    }\n",
       "\n",
       "    function displayChart(vegaEmbed) {\n",
       "      vegaEmbed(outputDiv, spec, embedOpt)\n",
       "        .catch(err => showError(`Javascript Error: ${err.message}<br>This usually means there's a typo in your chart specification. See the javascript console for the full traceback.`));\n",
       "    }\n",
       "\n",
       "    if(typeof define === \"function\" && define.amd) {\n",
       "      requirejs.config({paths});\n",
       "      require([\"vega-embed\"], displayChart, err => showError(`Error loading script: ${err.message}`));\n",
       "    } else {\n",
       "      maybeLoadScript(\"vega\", \"5\")\n",
       "        .then(() => maybeLoadScript(\"vega-lite\", \"4.17.0\"))\n",
       "        .then(() => maybeLoadScript(\"vega-embed\", \"6\"))\n",
       "        .catch(showError)\n",
       "        .then(() => displayChart(vegaEmbed));\n",
       "    }\n",
       "  })({\"config\": {\"view\": {\"continuousWidth\": 400, \"continuousHeight\": 300}}, \"data\": {\"name\": \"data-9214316b9288e806cb27fd88d0236008\"}, \"mark\": \"bar\", \"encoding\": {\"x\": {\"field\": \"page1k\", \"title\": \"Average number of likes per Facebook post 2016\", \"type\": \"quantitative\"}, \"y\": {\"field\": \"Page\", \"sort\": {\"field\": \"Average number of likes per Facebook post 2016:Q\", \"op\": \"sum\", \"order\": \"ascending\"}, \"title\": \"\", \"type\": \"ordinal\"}}, \"$schema\": \"https://vega.github.io/schema/vega-lite/v4.17.0.json\", \"datasets\": {\"data-9214316b9288e806cb27fd88d0236008\": [{\"Page\": \"Jeremy Corbyn\", \"Average number of likes per Facebook post 2016\": 5210, \"page1k\": 5.21}, {\"Page\": \"Labour Party\", \"Average number of likes per Facebook post 2016\": 845, \"page1k\": 0.845}, {\"Page\": \"Momentum\", \"Average number of likes per Facebook post 2016\": 229, \"page1k\": 0.229}, {\"Page\": \"Owen Smith\", \"Average number of likes per Facebook post 2016\": 127, \"page1k\": 0.127}, {\"Page\": \"Andy Burnham\", \"Average number of likes per Facebook post 2016\": 105, \"page1k\": 0.105}, {\"Page\": \"Saving Labour\", \"Average number of likes per Facebook post 2016\": 56, \"page1k\": 0.056}]}}, {\"mode\": \"vega-lite\"});\n",
       "</script>"
      ],
      "text/plain": [
       "alt.Chart(...)"
      ]
     },
     "execution_count": 9,
     "metadata": {},
     "output_type": "execute_result"
    }
   ],
   "source": [
    "alt.Chart(df).mark_bar().encode(\n",
    "    x=alt.X('page1k:Q', title='Average number of likes per Facebook post 2016'),\n",
    "    y=alt.Y('Page:O', title='', sort=alt.EncodingSortField(\n",
    "            field=\"Average number of likes per Facebook post 2016:Q\",  # The field to use for the sort\n",
    "            op=\"sum\",  # The operation to run on the field prior to sorting\n",
    "            order=\"ascending\"  # The order to sort in\n",
    "        ))\n",
    ")"
   ]
  },
  {
   "cell_type": "markdown",
   "metadata": {
    "id": "LrsuensNwR_z"
   },
   "source": [
    "Now, we see that we have to many ticks on the x-axis. We can add a scale and map the x-axis to integers to cope with that. While adding markup for the x-axis, we add orient='top'. That move the xlabel text to the top of the graph."
   ]
  },
  {
   "cell_type": "code",
   "execution_count": 15,
   "metadata": {
    "colab": {
     "base_uri": "https://localhost:8080/",
     "height": 183
    },
    "id": "Po25n3yswN8s",
    "outputId": "be4c0072-8753-4796-fea9-4a09a02208c1"
   },
   "outputs": [
    {
     "data": {
      "text/html": [
       "\n",
       "<div id=\"altair-viz-3bf5b4a2b8364b7c856c062e96685f42\"></div>\n",
       "<script type=\"text/javascript\">\n",
       "  var VEGA_DEBUG = (typeof VEGA_DEBUG == \"undefined\") ? {} : VEGA_DEBUG;\n",
       "  (function(spec, embedOpt){\n",
       "    let outputDiv = document.currentScript.previousElementSibling;\n",
       "    if (outputDiv.id !== \"altair-viz-3bf5b4a2b8364b7c856c062e96685f42\") {\n",
       "      outputDiv = document.getElementById(\"altair-viz-3bf5b4a2b8364b7c856c062e96685f42\");\n",
       "    }\n",
       "    const paths = {\n",
       "      \"vega\": \"https://cdn.jsdelivr.net/npm//vega@5?noext\",\n",
       "      \"vega-lib\": \"https://cdn.jsdelivr.net/npm//vega-lib?noext\",\n",
       "      \"vega-lite\": \"https://cdn.jsdelivr.net/npm//vega-lite@4.17.0?noext\",\n",
       "      \"vega-embed\": \"https://cdn.jsdelivr.net/npm//vega-embed@6?noext\",\n",
       "    };\n",
       "\n",
       "    function maybeLoadScript(lib, version) {\n",
       "      var key = `${lib.replace(\"-\", \"\")}_version`;\n",
       "      return (VEGA_DEBUG[key] == version) ?\n",
       "        Promise.resolve(paths[lib]) :\n",
       "        new Promise(function(resolve, reject) {\n",
       "          var s = document.createElement('script');\n",
       "          document.getElementsByTagName(\"head\")[0].appendChild(s);\n",
       "          s.async = true;\n",
       "          s.onload = () => {\n",
       "            VEGA_DEBUG[key] = version;\n",
       "            return resolve(paths[lib]);\n",
       "          };\n",
       "          s.onerror = () => reject(`Error loading script: ${paths[lib]}`);\n",
       "          s.src = paths[lib];\n",
       "        });\n",
       "    }\n",
       "\n",
       "    function showError(err) {\n",
       "      outputDiv.innerHTML = `<div class=\"error\" style=\"color:red;\">${err}</div>`;\n",
       "      throw err;\n",
       "    }\n",
       "\n",
       "    function displayChart(vegaEmbed) {\n",
       "      vegaEmbed(outputDiv, spec, embedOpt)\n",
       "        .catch(err => showError(`Javascript Error: ${err.message}<br>This usually means there's a typo in your chart specification. See the javascript console for the full traceback.`));\n",
       "    }\n",
       "\n",
       "    if(typeof define === \"function\" && define.amd) {\n",
       "      requirejs.config({paths});\n",
       "      require([\"vega-embed\"], displayChart, err => showError(`Error loading script: ${err.message}`));\n",
       "    } else {\n",
       "      maybeLoadScript(\"vega\", \"5\")\n",
       "        .then(() => maybeLoadScript(\"vega-lite\", \"4.17.0\"))\n",
       "        .then(() => maybeLoadScript(\"vega-embed\", \"6\"))\n",
       "        .catch(showError)\n",
       "        .then(() => displayChart(vegaEmbed));\n",
       "    }\n",
       "  })({\"config\": {\"view\": {\"continuousWidth\": 400, \"continuousHeight\": 300}}, \"data\": {\"name\": \"data-9214316b9288e806cb27fd88d0236008\"}, \"mark\": \"bar\", \"encoding\": {\"x\": {\"axis\": {\"format\": \"d\", \"orient\": \"top\", \"title\": \"Average number of likes per Facebook post 2016\", \"values\": [1, 2, 3, 4, 5, 6]}, \"field\": \"page1k\", \"scale\": {\"domain\": [0, 6], \"round\": true}, \"title\": \"Average number of likes per Facebook post 2016\", \"type\": \"quantitative\"}, \"y\": {\"field\": \"Page\", \"sort\": {\"field\": \"Average number of likes per Facebook post 2016:Q\", \"op\": \"sum\", \"order\": \"ascending\"}, \"title\": \"\", \"type\": \"ordinal\"}}, \"$schema\": \"https://vega.github.io/schema/vega-lite/v4.17.0.json\", \"datasets\": {\"data-9214316b9288e806cb27fd88d0236008\": [{\"Page\": \"Jeremy Corbyn\", \"Average number of likes per Facebook post 2016\": 5210, \"page1k\": 5.21}, {\"Page\": \"Labour Party\", \"Average number of likes per Facebook post 2016\": 845, \"page1k\": 0.845}, {\"Page\": \"Momentum\", \"Average number of likes per Facebook post 2016\": 229, \"page1k\": 0.229}, {\"Page\": \"Owen Smith\", \"Average number of likes per Facebook post 2016\": 127, \"page1k\": 0.127}, {\"Page\": \"Andy Burnham\", \"Average number of likes per Facebook post 2016\": 105, \"page1k\": 0.105}, {\"Page\": \"Saving Labour\", \"Average number of likes per Facebook post 2016\": 56, \"page1k\": 0.056}]}}, {\"mode\": \"vega-lite\"});\n",
       "</script>"
      ],
      "text/plain": [
       "alt.Chart(...)"
      ]
     },
     "execution_count": 15,
     "metadata": {},
     "output_type": "execute_result"
    }
   ],
   "source": [
    "alt.Chart(df).mark_bar().encode(\n",
    "    x=alt.X('page1k:Q', title='Average number of likes per Facebook post 2016',\n",
    "            axis=alt.Axis(title='Average number of likes per Facebook post 2016', orient=\"top\", format='d', values=[1,2,3,4,5,6]),\n",
    "            scale=alt.Scale(round=True, domain=[0,6])),\n",
    "    y=alt.Y('Page:O', title='', sort=alt.EncodingSortField(\n",
    "            field=\"Average number of likes per Facebook post 2016:Q\",  # The field to use for the sort\n",
    "            op=\"sum\",  # The operation to run on the field prior to sorting\n",
    "            order=\"ascending\"  # The order to sort in\n",
    "        ))\n",
    ")"
   ]
  },
  {
   "cell_type": "markdown",
   "metadata": {
    "id": "2bpxOJz5wdek"
   },
   "source": [
    "Now, we want to remove the x-axis itself as it adds nothing extra. We do that by putting the stroke at None in the configure_view. We also adjust the x-axis title to make clear the numbers are multiples of thousands."
   ]
  },
  {
   "cell_type": "code",
   "execution_count": 16,
   "metadata": {
    "colab": {
     "base_uri": "https://localhost:8080/",
     "height": 183
    },
    "id": "9iIPCDyLwe1u",
    "outputId": "9b1afaba-2e17-4569-d5e8-e33594473fde"
   },
   "outputs": [
    {
     "data": {
      "text/html": [
       "\n",
       "<div id=\"altair-viz-b8e30c39ad324e168d34da0d1b4dbdff\"></div>\n",
       "<script type=\"text/javascript\">\n",
       "  var VEGA_DEBUG = (typeof VEGA_DEBUG == \"undefined\") ? {} : VEGA_DEBUG;\n",
       "  (function(spec, embedOpt){\n",
       "    let outputDiv = document.currentScript.previousElementSibling;\n",
       "    if (outputDiv.id !== \"altair-viz-b8e30c39ad324e168d34da0d1b4dbdff\") {\n",
       "      outputDiv = document.getElementById(\"altair-viz-b8e30c39ad324e168d34da0d1b4dbdff\");\n",
       "    }\n",
       "    const paths = {\n",
       "      \"vega\": \"https://cdn.jsdelivr.net/npm//vega@5?noext\",\n",
       "      \"vega-lib\": \"https://cdn.jsdelivr.net/npm//vega-lib?noext\",\n",
       "      \"vega-lite\": \"https://cdn.jsdelivr.net/npm//vega-lite@4.17.0?noext\",\n",
       "      \"vega-embed\": \"https://cdn.jsdelivr.net/npm//vega-embed@6?noext\",\n",
       "    };\n",
       "\n",
       "    function maybeLoadScript(lib, version) {\n",
       "      var key = `${lib.replace(\"-\", \"\")}_version`;\n",
       "      return (VEGA_DEBUG[key] == version) ?\n",
       "        Promise.resolve(paths[lib]) :\n",
       "        new Promise(function(resolve, reject) {\n",
       "          var s = document.createElement('script');\n",
       "          document.getElementsByTagName(\"head\")[0].appendChild(s);\n",
       "          s.async = true;\n",
       "          s.onload = () => {\n",
       "            VEGA_DEBUG[key] = version;\n",
       "            return resolve(paths[lib]);\n",
       "          };\n",
       "          s.onerror = () => reject(`Error loading script: ${paths[lib]}`);\n",
       "          s.src = paths[lib];\n",
       "        });\n",
       "    }\n",
       "\n",
       "    function showError(err) {\n",
       "      outputDiv.innerHTML = `<div class=\"error\" style=\"color:red;\">${err}</div>`;\n",
       "      throw err;\n",
       "    }\n",
       "\n",
       "    function displayChart(vegaEmbed) {\n",
       "      vegaEmbed(outputDiv, spec, embedOpt)\n",
       "        .catch(err => showError(`Javascript Error: ${err.message}<br>This usually means there's a typo in your chart specification. See the javascript console for the full traceback.`));\n",
       "    }\n",
       "\n",
       "    if(typeof define === \"function\" && define.amd) {\n",
       "      requirejs.config({paths});\n",
       "      require([\"vega-embed\"], displayChart, err => showError(`Error loading script: ${err.message}`));\n",
       "    } else {\n",
       "      maybeLoadScript(\"vega\", \"5\")\n",
       "        .then(() => maybeLoadScript(\"vega-lite\", \"4.17.0\"))\n",
       "        .then(() => maybeLoadScript(\"vega-embed\", \"6\"))\n",
       "        .catch(showError)\n",
       "        .then(() => displayChart(vegaEmbed));\n",
       "    }\n",
       "  })({\"config\": {\"view\": {\"continuousWidth\": 400, \"continuousHeight\": 300, \"stroke\": null}}, \"data\": {\"name\": \"data-9214316b9288e806cb27fd88d0236008\"}, \"mark\": \"bar\", \"encoding\": {\"x\": {\"axis\": {\"format\": \"d\", \"orient\": \"top\", \"title\": \"Average number of likes per Facebook post 2016\", \"values\": [1, 2, 3, 4, 5, 6]}, \"field\": \"page1k\", \"scale\": {\"domain\": [0, 6], \"round\": true}, \"title\": \"Average number of likes per Facebook post 2016  ('000)\", \"type\": \"quantitative\"}, \"y\": {\"field\": \"Page\", \"sort\": {\"field\": \"Average number of likes per Facebook post 2016:Q\", \"op\": \"sum\", \"order\": \"ascending\"}, \"title\": \"\", \"type\": \"ordinal\"}}, \"$schema\": \"https://vega.github.io/schema/vega-lite/v4.17.0.json\", \"datasets\": {\"data-9214316b9288e806cb27fd88d0236008\": [{\"Page\": \"Jeremy Corbyn\", \"Average number of likes per Facebook post 2016\": 5210, \"page1k\": 5.21}, {\"Page\": \"Labour Party\", \"Average number of likes per Facebook post 2016\": 845, \"page1k\": 0.845}, {\"Page\": \"Momentum\", \"Average number of likes per Facebook post 2016\": 229, \"page1k\": 0.229}, {\"Page\": \"Owen Smith\", \"Average number of likes per Facebook post 2016\": 127, \"page1k\": 0.127}, {\"Page\": \"Andy Burnham\", \"Average number of likes per Facebook post 2016\": 105, \"page1k\": 0.105}, {\"Page\": \"Saving Labour\", \"Average number of likes per Facebook post 2016\": 56, \"page1k\": 0.056}]}}, {\"mode\": \"vega-lite\"});\n",
       "</script>"
      ],
      "text/plain": [
       "alt.Chart(...)"
      ]
     },
     "execution_count": 16,
     "metadata": {},
     "output_type": "execute_result"
    }
   ],
   "source": [
    "alt.Chart(df).mark_bar().encode(\n",
    "    x=alt.X('page1k:Q', title=\"Average number of likes per Facebook post 2016  ('000)\",\n",
    "            axis=alt.Axis(title='Average number of likes per Facebook post 2016', orient=\"top\", format='d', values=[1,2,3,4,5,6]),\n",
    "            scale=alt.Scale(round=True, domain=[0,6])),\n",
    "    y=alt.Y('Page:O', title='', sort=alt.EncodingSortField(\n",
    "            field=\"Average number of likes per Facebook post 2016:Q\",  # The field to use for the sort\n",
    "            op=\"sum\",  # The operation to run on the field prior to sorting\n",
    "            order=\"ascending\"  # The order to sort in\n",
    "        ))\n",
    ").configure_view(\n",
    "    stroke=None, # Remove box around graph\n",
    ")"
   ]
  },
  {
   "cell_type": "markdown",
   "metadata": {
    "id": "V4OunriowmUs"
   },
   "source": [
    "Next we try to left align the y-axis labels:"
   ]
  },
  {
   "cell_type": "code",
   "execution_count": 17,
   "metadata": {
    "colab": {
     "base_uri": "https://localhost:8080/",
     "height": 183
    },
    "id": "BGcac09Iwlf0",
    "outputId": "746f9432-985c-48a7-b364-c1bde479a3e1"
   },
   "outputs": [
    {
     "data": {
      "text/html": [
       "\n",
       "<div id=\"altair-viz-27ce0d753a0a486d99f67c1670b7fd26\"></div>\n",
       "<script type=\"text/javascript\">\n",
       "  var VEGA_DEBUG = (typeof VEGA_DEBUG == \"undefined\") ? {} : VEGA_DEBUG;\n",
       "  (function(spec, embedOpt){\n",
       "    let outputDiv = document.currentScript.previousElementSibling;\n",
       "    if (outputDiv.id !== \"altair-viz-27ce0d753a0a486d99f67c1670b7fd26\") {\n",
       "      outputDiv = document.getElementById(\"altair-viz-27ce0d753a0a486d99f67c1670b7fd26\");\n",
       "    }\n",
       "    const paths = {\n",
       "      \"vega\": \"https://cdn.jsdelivr.net/npm//vega@5?noext\",\n",
       "      \"vega-lib\": \"https://cdn.jsdelivr.net/npm//vega-lib?noext\",\n",
       "      \"vega-lite\": \"https://cdn.jsdelivr.net/npm//vega-lite@4.17.0?noext\",\n",
       "      \"vega-embed\": \"https://cdn.jsdelivr.net/npm//vega-embed@6?noext\",\n",
       "    };\n",
       "\n",
       "    function maybeLoadScript(lib, version) {\n",
       "      var key = `${lib.replace(\"-\", \"\")}_version`;\n",
       "      return (VEGA_DEBUG[key] == version) ?\n",
       "        Promise.resolve(paths[lib]) :\n",
       "        new Promise(function(resolve, reject) {\n",
       "          var s = document.createElement('script');\n",
       "          document.getElementsByTagName(\"head\")[0].appendChild(s);\n",
       "          s.async = true;\n",
       "          s.onload = () => {\n",
       "            VEGA_DEBUG[key] = version;\n",
       "            return resolve(paths[lib]);\n",
       "          };\n",
       "          s.onerror = () => reject(`Error loading script: ${paths[lib]}`);\n",
       "          s.src = paths[lib];\n",
       "        });\n",
       "    }\n",
       "\n",
       "    function showError(err) {\n",
       "      outputDiv.innerHTML = `<div class=\"error\" style=\"color:red;\">${err}</div>`;\n",
       "      throw err;\n",
       "    }\n",
       "\n",
       "    function displayChart(vegaEmbed) {\n",
       "      vegaEmbed(outputDiv, spec, embedOpt)\n",
       "        .catch(err => showError(`Javascript Error: ${err.message}<br>This usually means there's a typo in your chart specification. See the javascript console for the full traceback.`));\n",
       "    }\n",
       "\n",
       "    if(typeof define === \"function\" && define.amd) {\n",
       "      requirejs.config({paths});\n",
       "      require([\"vega-embed\"], displayChart, err => showError(`Error loading script: ${err.message}`));\n",
       "    } else {\n",
       "      maybeLoadScript(\"vega\", \"5\")\n",
       "        .then(() => maybeLoadScript(\"vega-lite\", \"4.17.0\"))\n",
       "        .then(() => maybeLoadScript(\"vega-embed\", \"6\"))\n",
       "        .catch(showError)\n",
       "        .then(() => displayChart(vegaEmbed));\n",
       "    }\n",
       "  })({\"config\": {\"view\": {\"continuousWidth\": 400, \"continuousHeight\": 300, \"stroke\": null}, \"axisY\": {\"labelAlign\": \"left\", \"labelPadding\": 70}}, \"data\": {\"name\": \"data-9214316b9288e806cb27fd88d0236008\"}, \"mark\": \"bar\", \"encoding\": {\"x\": {\"axis\": {\"format\": \"d\", \"orient\": \"top\", \"title\": \"Average number of likes per Facebook post 2016  ('000)\", \"values\": [1, 2, 3, 4, 5, 6]}, \"field\": \"page1k\", \"scale\": {\"domain\": [0, 6], \"round\": true}, \"type\": \"quantitative\"}, \"y\": {\"field\": \"Page\", \"sort\": {\"field\": \"Average number of likes per Facebook post 2016:Q\", \"op\": \"sum\", \"order\": \"ascending\"}, \"title\": \"\", \"type\": \"ordinal\"}}, \"$schema\": \"https://vega.github.io/schema/vega-lite/v4.17.0.json\", \"datasets\": {\"data-9214316b9288e806cb27fd88d0236008\": [{\"Page\": \"Jeremy Corbyn\", \"Average number of likes per Facebook post 2016\": 5210, \"page1k\": 5.21}, {\"Page\": \"Labour Party\", \"Average number of likes per Facebook post 2016\": 845, \"page1k\": 0.845}, {\"Page\": \"Momentum\", \"Average number of likes per Facebook post 2016\": 229, \"page1k\": 0.229}, {\"Page\": \"Owen Smith\", \"Average number of likes per Facebook post 2016\": 127, \"page1k\": 0.127}, {\"Page\": \"Andy Burnham\", \"Average number of likes per Facebook post 2016\": 105, \"page1k\": 0.105}, {\"Page\": \"Saving Labour\", \"Average number of likes per Facebook post 2016\": 56, \"page1k\": 0.056}]}}, {\"mode\": \"vega-lite\"});\n",
       "</script>"
      ],
      "text/plain": [
       "alt.Chart(...)"
      ]
     },
     "execution_count": 17,
     "metadata": {},
     "output_type": "execute_result"
    }
   ],
   "source": [
    "alt.Chart(df).mark_bar().encode(\n",
    "    x=alt.X('page1k:Q',\n",
    "            axis=alt.Axis(title=\"Average number of likes per Facebook post 2016  ('000)\", orient=\"top\", format='d', values=[1,2,3,4,5,6]),\n",
    "            scale=alt.Scale(round=True, domain=[0,6])),\n",
    "    y=alt.Y('Page:O', title='', sort=alt.EncodingSortField(\n",
    "            field=\"Average number of likes per Facebook post 2016:Q\",  # The field to use for the sort\n",
    "            op=\"sum\",  # The operation to run on the field prior to sorting\n",
    "            order=\"ascending\"  # The order to sort in\n",
    "        ))\n",
    ").configure_view(\n",
    "    stroke=None, # Remove box around graph\n",
    ").configure_axisY(\n",
    "    labelPadding=70, \n",
    "    labelAlign='left'\n",
    ")"
   ]
  },
  {
   "cell_type": "markdown",
   "metadata": {
    "id": "8YxwE9d0ws41"
   },
   "source": [
    "Now, we apply the Economist style:"
   ]
  },
  {
   "cell_type": "code",
   "execution_count": 29,
   "metadata": {
    "colab": {
     "base_uri": "https://localhost:8080/",
     "height": 317
    },
    "id": "OpWMcxOCvJB3",
    "outputId": "d4a148c5-5cca-4f85-b02a-717651f50b8e"
   },
   "outputs": [
    {
     "data": {
      "text/html": [
       "\n",
       "<div id=\"altair-viz-279197d06a3e4e2b94eabc82decbb5b5\"></div>\n",
       "<script type=\"text/javascript\">\n",
       "  var VEGA_DEBUG = (typeof VEGA_DEBUG == \"undefined\") ? {} : VEGA_DEBUG;\n",
       "  (function(spec, embedOpt){\n",
       "    let outputDiv = document.currentScript.previousElementSibling;\n",
       "    if (outputDiv.id !== \"altair-viz-279197d06a3e4e2b94eabc82decbb5b5\") {\n",
       "      outputDiv = document.getElementById(\"altair-viz-279197d06a3e4e2b94eabc82decbb5b5\");\n",
       "    }\n",
       "    const paths = {\n",
       "      \"vega\": \"https://cdn.jsdelivr.net/npm//vega@5?noext\",\n",
       "      \"vega-lib\": \"https://cdn.jsdelivr.net/npm//vega-lib?noext\",\n",
       "      \"vega-lite\": \"https://cdn.jsdelivr.net/npm//vega-lite@4.17.0?noext\",\n",
       "      \"vega-embed\": \"https://cdn.jsdelivr.net/npm//vega-embed@6?noext\",\n",
       "    };\n",
       "\n",
       "    function maybeLoadScript(lib, version) {\n",
       "      var key = `${lib.replace(\"-\", \"\")}_version`;\n",
       "      return (VEGA_DEBUG[key] == version) ?\n",
       "        Promise.resolve(paths[lib]) :\n",
       "        new Promise(function(resolve, reject) {\n",
       "          var s = document.createElement('script');\n",
       "          document.getElementsByTagName(\"head\")[0].appendChild(s);\n",
       "          s.async = true;\n",
       "          s.onload = () => {\n",
       "            VEGA_DEBUG[key] = version;\n",
       "            return resolve(paths[lib]);\n",
       "          };\n",
       "          s.onerror = () => reject(`Error loading script: ${paths[lib]}`);\n",
       "          s.src = paths[lib];\n",
       "        });\n",
       "    }\n",
       "\n",
       "    function showError(err) {\n",
       "      outputDiv.innerHTML = `<div class=\"error\" style=\"color:red;\">${err}</div>`;\n",
       "      throw err;\n",
       "    }\n",
       "\n",
       "    function displayChart(vegaEmbed) {\n",
       "      vegaEmbed(outputDiv, spec, embedOpt)\n",
       "        .catch(err => showError(`Javascript Error: ${err.message}<br>This usually means there's a typo in your chart specification. See the javascript console for the full traceback.`));\n",
       "    }\n",
       "\n",
       "    if(typeof define === \"function\" && define.amd) {\n",
       "      requirejs.config({paths});\n",
       "      require([\"vega-embed\"], displayChart, err => showError(`Error loading script: ${err.message}`));\n",
       "    } else {\n",
       "      maybeLoadScript(\"vega\", \"5\")\n",
       "        .then(() => maybeLoadScript(\"vega-lite\", \"4.17.0\"))\n",
       "        .then(() => maybeLoadScript(\"vega-embed\", \"6\"))\n",
       "        .catch(showError)\n",
       "        .then(() => displayChart(vegaEmbed));\n",
       "    }\n",
       "  })({\"config\": {\"view\": {\"continuousWidth\": 400, \"continuousHeight\": 300, \"stroke\": null}, \"axisY\": {\"grid\": false, \"labelAlign\": \"left\", \"labelPadding\": 110, \"ticks\": false}, \"background\": \"#D9E9F0\", \"title\": {\"dy\": 30, \"fontSize\": 22, \"offset\": 30, \"subtitleFontSize\": 18}}, \"vconcat\": [{\"data\": {\"name\": \"empty\"}, \"mark\": {\"type\": \"rect\", \"color\": \"#EB111A\", \"height\": 18, \"width\": 50, \"xOffset\": -105, \"yOffset\": 10}}, {\"data\": {\"name\": \"data-9214316b9288e806cb27fd88d0236008\"}, \"mark\": \"bar\", \"encoding\": {\"x\": {\"axis\": {\"format\": \"d\", \"labelFontSize\": 14, \"orient\": \"top\", \"title\": \"\", \"values\": [1, 2, 3, 4, 5, 6]}, \"field\": \"page1k\", \"scale\": {\"domain\": [0, 6], \"round\": true}, \"type\": \"quantitative\"}, \"y\": {\"axis\": {\"labelFontSize\": 14, \"labelFontStyle\": {\"condition\": {\"test\": \"datum.value == \\\"Jeremy Corbyn\\\"\", \"value\": \"bold\"}, \"value\": \"italic\"}}, \"field\": \"Page\", \"sort\": {\"field\": \"Average number of likes per Facebook post 2016:Q\", \"op\": \"sum\", \"order\": \"ascending\"}, \"title\": \"\", \"type\": \"ordinal\"}}, \"title\": {\"text\": [\"Left Click\"], \"subtitle\": [\"Average number of likes per Facebook post\\n\", \"2016, '000\"], \"align\": \"left\", \"anchor\": \"start\"}}, {\"data\": {\"name\": \"data-a4de834d9d3c210d2fa4d84e065850aa\"}, \"mark\": {\"type\": \"text\", \"align\": \"left\", \"color\": \"darkgrey\", \"dx\": -120, \"size\": 12}, \"encoding\": {\"text\": {\"field\": \"text\", \"type\": \"nominal\"}}}], \"$schema\": \"https://vega.github.io/schema/vega-lite/v4.17.0.json\", \"datasets\": {\"empty\": [{}], \"data-9214316b9288e806cb27fd88d0236008\": [{\"Page\": \"Jeremy Corbyn\", \"Average number of likes per Facebook post 2016\": 5210, \"page1k\": 5.21}, {\"Page\": \"Labour Party\", \"Average number of likes per Facebook post 2016\": 845, \"page1k\": 0.845}, {\"Page\": \"Momentum\", \"Average number of likes per Facebook post 2016\": 229, \"page1k\": 0.229}, {\"Page\": \"Owen Smith\", \"Average number of likes per Facebook post 2016\": 127, \"page1k\": 0.127}, {\"Page\": \"Andy Burnham\", \"Average number of likes per Facebook post 2016\": 105, \"page1k\": 0.105}, {\"Page\": \"Saving Labour\", \"Average number of likes per Facebook post 2016\": 56, \"page1k\": 0.056}], \"data-a4de834d9d3c210d2fa4d84e065850aa\": [{\"text\": \"Source: Facebook\"}]}}, {\"mode\": \"vega-lite\"});\n",
       "</script>"
      ],
      "text/plain": [
       "alt.VConcatChart(...)"
      ]
     },
     "execution_count": 29,
     "metadata": {},
     "output_type": "execute_result"
    }
   ],
   "source": [
    "square = alt.Chart().mark_rect(width=50, height=18, color='#EB111A', xOffset=-105, yOffset=10)\n",
    "\n",
    "bars = alt.Chart(df).mark_bar().encode(\n",
    "    x=alt.X('page1k:Q',\n",
    "            axis=alt.Axis(title=\"\", orient=\"top\", format='d', values=[1,2,3,4,5,6], labelFontSize=14),\n",
    "            scale=alt.Scale(round=True, domain=[0,6])),\n",
    "    y=alt.Y('Page:O', title='', sort=alt.EncodingSortField(\n",
    "            field=\"Average number of likes per Facebook post 2016:Q\",  # The field to use for the sort\n",
    "            op=\"sum\",  # The operation to run on the field prior to sorting\n",
    "            order=\"ascending\"  # The order to sort in\n",
    "        ),\n",
    "        # Based on https://stackoverflow.com/questions/66684882/color-some-x-labels-in-altair-plot\n",
    "        axis=alt.Axis(labelFontSize=14, labelFontStyle=alt.condition('datum.value == \"Jeremy Corbyn\"', alt.value('bold'), alt.value('italic'))))\n",
    ").properties(title={\n",
    "      \"text\": [\"Left Click\", ], \n",
    "      \"subtitle\": [\"Average number of likes per Facebook post\\n\", \"2016, '000\"],\n",
    "      \"align\": 'left',\n",
    "      \"anchor\": 'start'\n",
    "    }\n",
    ")\n",
    "\n",
    "source = alt.Chart(\n",
    "    {\"values\": [{\"text\": \"Source: Facebook\"}]}\n",
    ").mark_text(size=12, align='left', dx=-120, color='darkgrey').encode(\n",
    "    text=\"text:N\"\n",
    ")\n",
    "\n",
    "# from https://stackoverflow.com/questions/57244390/has-anyone-figured-out-a-workaround-to-add-a-subtitle-to-an-altair-generated-cha\n",
    "chart = alt.vconcat(\n",
    "    square,\n",
    "    bars,\n",
    "    source\n",
    ").configure_concat(\n",
    "    spacing=0\n",
    ").configure(\n",
    "    background='#D9E9F0'\n",
    ").configure_view(\n",
    "    stroke=None, # Remove box around graph\n",
    ").configure_axisY(\n",
    "    labelPadding=110,\n",
    "    labelAlign='left',\n",
    "    ticks=False,\n",
    "    grid=False\n",
    ").configure_title(\n",
    "    fontSize=22,\n",
    "    subtitleFontSize=18,\n",
    "    offset=30,\n",
    "    dy=30\n",
    ")\n",
    "\n",
    "chart"
   ]
  },
  {
   "cell_type": "markdown",
   "metadata": {
    "id": "lwqHvroQwvNB"
   },
   "source": [
    "The only thing, I could not reproduce with Altair is the light bar around the the first label and bar. For those final touches I think it's better to export the graph and add those finishing touches with a tool such as Inkscape or Illustrator."
   ]
  }
 ],
 "metadata": {
  "colab": {
   "name": "2022-04-18-Economist_style.ipynb",
   "provenance": []
  },
  "kernelspec": {
   "display_name": "Python 3 (ipykernel)",
   "language": "python",
   "name": "python3"
  },
  "language_info": {
   "codemirror_mode": {
    "name": "ipython",
    "version": 3
   },
   "file_extension": ".py",
   "mimetype": "text/x-python",
   "name": "python",
   "nbconvert_exporter": "python",
   "pygments_lexer": "ipython3",
   "version": "3.10.9"
  }
 },
 "nbformat": 4,
 "nbformat_minor": 1
}
